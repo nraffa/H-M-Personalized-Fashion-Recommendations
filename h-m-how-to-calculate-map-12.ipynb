{
 "cells": [
  {
   "cell_type": "markdown",
   "id": "bdb69e14",
   "metadata": {
    "papermill": {
     "duration": 0.014018,
     "end_time": "2022-02-13T11:43:58.891802",
     "exception": false,
     "start_time": "2022-02-13T11:43:58.877784",
     "status": "completed"
    },
    "tags": []
   },
   "source": [
    "## Thank you for visit\n",
    "\n",
    "\n",
    "#### In this notebook, I want to show Example how to calculate MAP@12 \n",
    "\n",
    "#### If you like this notebook, upvote please 😉"
   ]
  },
  {
   "cell_type": "code",
   "execution_count": 1,
   "id": "3ba97f5b",
   "metadata": {
    "execution": {
     "iopub.execute_input": "2022-02-13T11:43:58.927549Z",
     "iopub.status.busy": "2022-02-13T11:43:58.926696Z",
     "iopub.status.idle": "2022-02-13T11:43:59.025105Z",
     "shell.execute_reply": "2022-02-13T11:43:59.024098Z"
    },
    "papermill": {
     "duration": 0.119765,
     "end_time": "2022-02-13T11:43:59.025335",
     "exception": false,
     "start_time": "2022-02-13T11:43:58.905570",
     "status": "completed"
    },
    "tags": []
   },
   "outputs": [],
   "source": [
    "import numpy as np\n",
    "import pandas as pd\n",
    "import gc\n",
    "import os\n",
    "import time\n",
    "import random\n",
    "from tqdm.auto import tqdm"
   ]
  },
  {
   "cell_type": "code",
   "execution_count": 2,
   "id": "9f38091b",
   "metadata": {
    "execution": {
     "iopub.execute_input": "2022-02-13T11:43:59.060687Z",
     "iopub.status.busy": "2022-02-13T11:43:59.059308Z",
     "iopub.status.idle": "2022-02-13T11:43:59.062817Z",
     "shell.execute_reply": "2022-02-13T11:43:59.063367Z"
    },
    "papermill": {
     "duration": 0.023319,
     "end_time": "2022-02-13T11:43:59.063578",
     "exception": false,
     "start_time": "2022-02-13T11:43:59.040259",
     "status": "completed"
    },
    "tags": []
   },
   "outputs": [],
   "source": [
    "def visualize_df(df):\n",
    "    print(df.shape)\n",
    "    display(df.head())"
   ]
  },
  {
   "cell_type": "code",
   "execution_count": 3,
   "id": "872970f1",
   "metadata": {
    "execution": {
     "iopub.execute_input": "2022-02-13T11:43:59.096668Z",
     "iopub.status.busy": "2022-02-13T11:43:59.095934Z",
     "iopub.status.idle": "2022-02-13T11:45:14.321311Z",
     "shell.execute_reply": "2022-02-13T11:45:14.320745Z"
    },
    "papermill": {
     "duration": 75.245483,
     "end_time": "2022-02-13T11:45:14.321455",
     "exception": false,
     "start_time": "2022-02-13T11:43:59.075972",
     "status": "completed"
    },
    "tags": []
   },
   "outputs": [
    {
     "name": "stdout",
     "output_type": "stream",
     "text": [
      "(31788324, 5)\n"
     ]
    },
    {
     "data": {
      "text/html": [
       "<div>\n",
       "<style scoped>\n",
       "    .dataframe tbody tr th:only-of-type {\n",
       "        vertical-align: middle;\n",
       "    }\n",
       "\n",
       "    .dataframe tbody tr th {\n",
       "        vertical-align: top;\n",
       "    }\n",
       "\n",
       "    .dataframe thead th {\n",
       "        text-align: right;\n",
       "    }\n",
       "</style>\n",
       "<table border=\"1\" class=\"dataframe\">\n",
       "  <thead>\n",
       "    <tr style=\"text-align: right;\">\n",
       "      <th></th>\n",
       "      <th>t_dat</th>\n",
       "      <th>customer_id</th>\n",
       "      <th>article_id</th>\n",
       "      <th>price</th>\n",
       "      <th>sales_channel_id</th>\n",
       "    </tr>\n",
       "  </thead>\n",
       "  <tbody>\n",
       "    <tr>\n",
       "      <th>0</th>\n",
       "      <td>2018-09-20</td>\n",
       "      <td>000058a12d5b43e67d225668fa1f8d618c13dc232df0ca...</td>\n",
       "      <td>663713001</td>\n",
       "      <td>0.050831</td>\n",
       "      <td>2</td>\n",
       "    </tr>\n",
       "    <tr>\n",
       "      <th>1</th>\n",
       "      <td>2018-09-20</td>\n",
       "      <td>000058a12d5b43e67d225668fa1f8d618c13dc232df0ca...</td>\n",
       "      <td>541518023</td>\n",
       "      <td>0.030492</td>\n",
       "      <td>2</td>\n",
       "    </tr>\n",
       "    <tr>\n",
       "      <th>2</th>\n",
       "      <td>2018-09-20</td>\n",
       "      <td>00007d2de826758b65a93dd24ce629ed66842531df6699...</td>\n",
       "      <td>505221004</td>\n",
       "      <td>0.015237</td>\n",
       "      <td>2</td>\n",
       "    </tr>\n",
       "    <tr>\n",
       "      <th>3</th>\n",
       "      <td>2018-09-20</td>\n",
       "      <td>00007d2de826758b65a93dd24ce629ed66842531df6699...</td>\n",
       "      <td>685687003</td>\n",
       "      <td>0.016932</td>\n",
       "      <td>2</td>\n",
       "    </tr>\n",
       "    <tr>\n",
       "      <th>4</th>\n",
       "      <td>2018-09-20</td>\n",
       "      <td>00007d2de826758b65a93dd24ce629ed66842531df6699...</td>\n",
       "      <td>685687004</td>\n",
       "      <td>0.016932</td>\n",
       "      <td>2</td>\n",
       "    </tr>\n",
       "  </tbody>\n",
       "</table>\n",
       "</div>"
      ],
      "text/plain": [
       "        t_dat                                        customer_id  article_id  \\\n",
       "0  2018-09-20  000058a12d5b43e67d225668fa1f8d618c13dc232df0ca...   663713001   \n",
       "1  2018-09-20  000058a12d5b43e67d225668fa1f8d618c13dc232df0ca...   541518023   \n",
       "2  2018-09-20  00007d2de826758b65a93dd24ce629ed66842531df6699...   505221004   \n",
       "3  2018-09-20  00007d2de826758b65a93dd24ce629ed66842531df6699...   685687003   \n",
       "4  2018-09-20  00007d2de826758b65a93dd24ce629ed66842531df6699...   685687004   \n",
       "\n",
       "      price  sales_channel_id  \n",
       "0  0.050831                 2  \n",
       "1  0.030492                 2  \n",
       "2  0.015237                 2  \n",
       "3  0.016932                 2  \n",
       "4  0.016932                 2  "
      ]
     },
     "metadata": {},
     "output_type": "display_data"
    }
   ],
   "source": [
    "transactions_train = pd.read_csv('../input/h-and-m-personalized-fashion-recommendations/transactions_train.csv')\n",
    "visualize_df(transactions_train)"
   ]
  },
  {
   "cell_type": "code",
   "execution_count": 4,
   "id": "edd9385e",
   "metadata": {
    "execution": {
     "iopub.execute_input": "2022-02-13T11:45:14.355694Z",
     "iopub.status.busy": "2022-02-13T11:45:14.354923Z",
     "iopub.status.idle": "2022-02-13T11:45:19.337680Z",
     "shell.execute_reply": "2022-02-13T11:45:19.338202Z"
    },
    "papermill": {
     "duration": 5.002733,
     "end_time": "2022-02-13T11:45:19.338393",
     "exception": false,
     "start_time": "2022-02-13T11:45:14.335660",
     "status": "completed"
    },
    "tags": []
   },
   "outputs": [
    {
     "name": "stdout",
     "output_type": "stream",
     "text": [
      "(1371980, 1)\n"
     ]
    },
    {
     "data": {
      "text/html": [
       "<div>\n",
       "<style scoped>\n",
       "    .dataframe tbody tr th:only-of-type {\n",
       "        vertical-align: middle;\n",
       "    }\n",
       "\n",
       "    .dataframe tbody tr th {\n",
       "        vertical-align: top;\n",
       "    }\n",
       "\n",
       "    .dataframe thead th {\n",
       "        text-align: right;\n",
       "    }\n",
       "</style>\n",
       "<table border=\"1\" class=\"dataframe\">\n",
       "  <thead>\n",
       "    <tr style=\"text-align: right;\">\n",
       "      <th></th>\n",
       "      <th>customer_id</th>\n",
       "    </tr>\n",
       "  </thead>\n",
       "  <tbody>\n",
       "    <tr>\n",
       "      <th>0</th>\n",
       "      <td>00000dbacae5abe5e23885899a1fa44253a17956c6d1c3...</td>\n",
       "    </tr>\n",
       "    <tr>\n",
       "      <th>1</th>\n",
       "      <td>0000423b00ade91418cceaf3b26c6af3dd342b51fd051e...</td>\n",
       "    </tr>\n",
       "    <tr>\n",
       "      <th>2</th>\n",
       "      <td>000058a12d5b43e67d225668fa1f8d618c13dc232df0ca...</td>\n",
       "    </tr>\n",
       "    <tr>\n",
       "      <th>3</th>\n",
       "      <td>00005ca1c9ed5f5146b52ac8639a40ca9d57aeff4d1bd2...</td>\n",
       "    </tr>\n",
       "    <tr>\n",
       "      <th>4</th>\n",
       "      <td>00006413d8573cd20ed7128e53b7b13819fe5cfc2d801f...</td>\n",
       "    </tr>\n",
       "  </tbody>\n",
       "</table>\n",
       "</div>"
      ],
      "text/plain": [
       "                                         customer_id\n",
       "0  00000dbacae5abe5e23885899a1fa44253a17956c6d1c3...\n",
       "1  0000423b00ade91418cceaf3b26c6af3dd342b51fd051e...\n",
       "2  000058a12d5b43e67d225668fa1f8d618c13dc232df0ca...\n",
       "3  00005ca1c9ed5f5146b52ac8639a40ca9d57aeff4d1bd2...\n",
       "4  00006413d8573cd20ed7128e53b7b13819fe5cfc2d801f..."
      ]
     },
     "metadata": {},
     "output_type": "display_data"
    }
   ],
   "source": [
    "sub = pd.read_csv('../input/h-and-m-personalized-fashion-recommendations/sample_submission.csv')\n",
    "del sub['prediction']; gc.collect()\n",
    "visualize_df(sub)"
   ]
  },
  {
   "cell_type": "code",
   "execution_count": 5,
   "id": "beee1130",
   "metadata": {
    "execution": {
     "iopub.execute_input": "2022-02-13T11:45:19.374018Z",
     "iopub.status.busy": "2022-02-13T11:45:19.373373Z",
     "iopub.status.idle": "2022-02-13T11:45:19.375715Z",
     "shell.execute_reply": "2022-02-13T11:45:19.376182Z"
    },
    "papermill": {
     "duration": 0.021615,
     "end_time": "2022-02-13T11:45:19.376357",
     "exception": false,
     "start_time": "2022-02-13T11:45:19.354742",
     "status": "completed"
    },
    "tags": []
   },
   "outputs": [],
   "source": [
    "# transactions_train['t_dat'].unique()[-7:]\n",
    "\n",
    "# array(['2020-09-16', '2020-09-17', '2020-09-18', '2020-09-19',\n",
    "#       '2020-09-20', '2020-09-21', '2020-09-22'], dtype=object)"
   ]
  },
  {
   "cell_type": "code",
   "execution_count": 6,
   "id": "ab6a0981",
   "metadata": {
    "execution": {
     "iopub.execute_input": "2022-02-13T11:45:19.409801Z",
     "iopub.status.busy": "2022-02-13T11:45:19.409101Z",
     "iopub.status.idle": "2022-02-13T11:45:32.484577Z",
     "shell.execute_reply": "2022-02-13T11:45:32.484054Z"
    },
    "papermill": {
     "duration": 13.093823,
     "end_time": "2022-02-13T11:45:32.484724",
     "exception": false,
     "start_time": "2022-02-13T11:45:19.390901",
     "status": "completed"
    },
    "tags": []
   },
   "outputs": [
    {
     "name": "stdout",
     "output_type": "stream",
     "text": [
      "(31548013, 5)\n"
     ]
    },
    {
     "data": {
      "text/html": [
       "<div>\n",
       "<style scoped>\n",
       "    .dataframe tbody tr th:only-of-type {\n",
       "        vertical-align: middle;\n",
       "    }\n",
       "\n",
       "    .dataframe tbody tr th {\n",
       "        vertical-align: top;\n",
       "    }\n",
       "\n",
       "    .dataframe thead th {\n",
       "        text-align: right;\n",
       "    }\n",
       "</style>\n",
       "<table border=\"1\" class=\"dataframe\">\n",
       "  <thead>\n",
       "    <tr style=\"text-align: right;\">\n",
       "      <th></th>\n",
       "      <th>t_dat</th>\n",
       "      <th>customer_id</th>\n",
       "      <th>article_id</th>\n",
       "      <th>price</th>\n",
       "      <th>sales_channel_id</th>\n",
       "    </tr>\n",
       "  </thead>\n",
       "  <tbody>\n",
       "    <tr>\n",
       "      <th>0</th>\n",
       "      <td>2018-09-20</td>\n",
       "      <td>000058a12d5b43e67d225668fa1f8d618c13dc232df0ca...</td>\n",
       "      <td>663713001</td>\n",
       "      <td>0.050831</td>\n",
       "      <td>2</td>\n",
       "    </tr>\n",
       "    <tr>\n",
       "      <th>1</th>\n",
       "      <td>2018-09-20</td>\n",
       "      <td>000058a12d5b43e67d225668fa1f8d618c13dc232df0ca...</td>\n",
       "      <td>541518023</td>\n",
       "      <td>0.030492</td>\n",
       "      <td>2</td>\n",
       "    </tr>\n",
       "    <tr>\n",
       "      <th>2</th>\n",
       "      <td>2018-09-20</td>\n",
       "      <td>00007d2de826758b65a93dd24ce629ed66842531df6699...</td>\n",
       "      <td>505221004</td>\n",
       "      <td>0.015237</td>\n",
       "      <td>2</td>\n",
       "    </tr>\n",
       "    <tr>\n",
       "      <th>3</th>\n",
       "      <td>2018-09-20</td>\n",
       "      <td>00007d2de826758b65a93dd24ce629ed66842531df6699...</td>\n",
       "      <td>685687003</td>\n",
       "      <td>0.016932</td>\n",
       "      <td>2</td>\n",
       "    </tr>\n",
       "    <tr>\n",
       "      <th>4</th>\n",
       "      <td>2018-09-20</td>\n",
       "      <td>00007d2de826758b65a93dd24ce629ed66842531df6699...</td>\n",
       "      <td>685687004</td>\n",
       "      <td>0.016932</td>\n",
       "      <td>2</td>\n",
       "    </tr>\n",
       "  </tbody>\n",
       "</table>\n",
       "</div>"
      ],
      "text/plain": [
       "        t_dat                                        customer_id  article_id  \\\n",
       "0  2018-09-20  000058a12d5b43e67d225668fa1f8d618c13dc232df0ca...   663713001   \n",
       "1  2018-09-20  000058a12d5b43e67d225668fa1f8d618c13dc232df0ca...   541518023   \n",
       "2  2018-09-20  00007d2de826758b65a93dd24ce629ed66842531df6699...   505221004   \n",
       "3  2018-09-20  00007d2de826758b65a93dd24ce629ed66842531df6699...   685687003   \n",
       "4  2018-09-20  00007d2de826758b65a93dd24ce629ed66842531df6699...   685687004   \n",
       "\n",
       "      price  sales_channel_id  \n",
       "0  0.050831                 2  \n",
       "1  0.030492                 2  \n",
       "2  0.015237                 2  \n",
       "3  0.016932                 2  \n",
       "4  0.016932                 2  "
      ]
     },
     "metadata": {},
     "output_type": "display_data"
    },
    {
     "name": "stdout",
     "output_type": "stream",
     "text": [
      "(240311, 5)\n"
     ]
    },
    {
     "data": {
      "text/html": [
       "<div>\n",
       "<style scoped>\n",
       "    .dataframe tbody tr th:only-of-type {\n",
       "        vertical-align: middle;\n",
       "    }\n",
       "\n",
       "    .dataframe tbody tr th {\n",
       "        vertical-align: top;\n",
       "    }\n",
       "\n",
       "    .dataframe thead th {\n",
       "        text-align: right;\n",
       "    }\n",
       "</style>\n",
       "<table border=\"1\" class=\"dataframe\">\n",
       "  <thead>\n",
       "    <tr style=\"text-align: right;\">\n",
       "      <th></th>\n",
       "      <th>t_dat</th>\n",
       "      <th>customer_id</th>\n",
       "      <th>article_id</th>\n",
       "      <th>price</th>\n",
       "      <th>sales_channel_id</th>\n",
       "    </tr>\n",
       "  </thead>\n",
       "  <tbody>\n",
       "    <tr>\n",
       "      <th>0</th>\n",
       "      <td>2020-09-16</td>\n",
       "      <td>000fb6e772c5d0023892065e659963da90b1866035558e...</td>\n",
       "      <td>786022008</td>\n",
       "      <td>0.048441</td>\n",
       "      <td>2</td>\n",
       "    </tr>\n",
       "    <tr>\n",
       "      <th>1</th>\n",
       "      <td>2020-09-16</td>\n",
       "      <td>000fb6e772c5d0023892065e659963da90b1866035558e...</td>\n",
       "      <td>913272003</td>\n",
       "      <td>0.032288</td>\n",
       "      <td>2</td>\n",
       "    </tr>\n",
       "    <tr>\n",
       "      <th>2</th>\n",
       "      <td>2020-09-16</td>\n",
       "      <td>000fb6e772c5d0023892065e659963da90b1866035558e...</td>\n",
       "      <td>889669006</td>\n",
       "      <td>0.056508</td>\n",
       "      <td>2</td>\n",
       "    </tr>\n",
       "    <tr>\n",
       "      <th>3</th>\n",
       "      <td>2020-09-16</td>\n",
       "      <td>0010e8eb18f131e724d6997909af0808adbba057529edb...</td>\n",
       "      <td>237347060</td>\n",
       "      <td>0.033881</td>\n",
       "      <td>1</td>\n",
       "    </tr>\n",
       "    <tr>\n",
       "      <th>4</th>\n",
       "      <td>2020-09-16</td>\n",
       "      <td>0010e8eb18f131e724d6997909af0808adbba057529edb...</td>\n",
       "      <td>562245001</td>\n",
       "      <td>0.013542</td>\n",
       "      <td>1</td>\n",
       "    </tr>\n",
       "  </tbody>\n",
       "</table>\n",
       "</div>"
      ],
      "text/plain": [
       "        t_dat                                        customer_id  article_id  \\\n",
       "0  2020-09-16  000fb6e772c5d0023892065e659963da90b1866035558e...   786022008   \n",
       "1  2020-09-16  000fb6e772c5d0023892065e659963da90b1866035558e...   913272003   \n",
       "2  2020-09-16  000fb6e772c5d0023892065e659963da90b1866035558e...   889669006   \n",
       "3  2020-09-16  0010e8eb18f131e724d6997909af0808adbba057529edb...   237347060   \n",
       "4  2020-09-16  0010e8eb18f131e724d6997909af0808adbba057529edb...   562245001   \n",
       "\n",
       "      price  sales_channel_id  \n",
       "0  0.048441                 2  \n",
       "1  0.032288                 2  \n",
       "2  0.056508                 2  \n",
       "3  0.033881                 1  \n",
       "4  0.013542                 1  "
      ]
     },
     "metadata": {},
     "output_type": "display_data"
    }
   ],
   "source": [
    "val_start_date = '2020-09-16'\n",
    "\n",
    "train_data = transactions_train.query(f\"t_dat < '{val_start_date}'\").reset_index(drop=True)\n",
    "valid_data = transactions_train.query(f\"t_dat >= '{val_start_date}'\").reset_index(drop=True)\n",
    "\n",
    "visualize_df(train_data)\n",
    "visualize_df(valid_data)"
   ]
  },
  {
   "cell_type": "code",
   "execution_count": 7,
   "id": "74062170",
   "metadata": {
    "execution": {
     "iopub.execute_input": "2022-02-13T11:45:32.526208Z",
     "iopub.status.busy": "2022-02-13T11:45:32.525477Z",
     "iopub.status.idle": "2022-02-13T11:46:33.255248Z",
     "shell.execute_reply": "2022-02-13T11:46:33.254608Z"
    },
    "papermill": {
     "duration": 60.7536,
     "end_time": "2022-02-13T11:46:33.255403",
     "exception": false,
     "start_time": "2022-02-13T11:45:32.501803",
     "status": "completed"
    },
    "tags": []
   },
   "outputs": [
    {
     "name": "stdout",
     "output_type": "stream",
     "text": [
      "(1356709, 3)\n"
     ]
    },
    {
     "data": {
      "text/html": [
       "<div>\n",
       "<style scoped>\n",
       "    .dataframe tbody tr th:only-of-type {\n",
       "        vertical-align: middle;\n",
       "    }\n",
       "\n",
       "    .dataframe tbody tr th {\n",
       "        vertical-align: top;\n",
       "    }\n",
       "\n",
       "    .dataframe thead th {\n",
       "        text-align: right;\n",
       "    }\n",
       "</style>\n",
       "<table border=\"1\" class=\"dataframe\">\n",
       "  <thead>\n",
       "    <tr style=\"text-align: right;\">\n",
       "      <th></th>\n",
       "      <th>customer_id</th>\n",
       "      <th>article_id</th>\n",
       "      <th>valid_pred</th>\n",
       "    </tr>\n",
       "  </thead>\n",
       "  <tbody>\n",
       "    <tr>\n",
       "      <th>0</th>\n",
       "      <td>00000dbacae5abe5e23885899a1fa44253a17956c6d1c3...</td>\n",
       "      <td>[625548001, 176209023, 627759010, 697138006, 5...</td>\n",
       "      <td>0625548001 0176209023 0627759010 0697138006 05...</td>\n",
       "    </tr>\n",
       "    <tr>\n",
       "      <th>1</th>\n",
       "      <td>0000423b00ade91418cceaf3b26c6af3dd342b51fd051e...</td>\n",
       "      <td>[583558001, 639677008, 640244003, 521269001, 6...</td>\n",
       "      <td>0583558001 0639677008 0640244003 0521269001 06...</td>\n",
       "    </tr>\n",
       "    <tr>\n",
       "      <th>2</th>\n",
       "      <td>000058a12d5b43e67d225668fa1f8d618c13dc232df0ca...</td>\n",
       "      <td>[663713001, 541518023, 663713001, 578020002, 7...</td>\n",
       "      <td>0663713001 0541518023 0663713001 0578020002 07...</td>\n",
       "    </tr>\n",
       "    <tr>\n",
       "      <th>3</th>\n",
       "      <td>00005ca1c9ed5f5146b52ac8639a40ca9d57aeff4d1bd2...</td>\n",
       "      <td>[742079001, 732413001]</td>\n",
       "      <td>0742079001 0732413001</td>\n",
       "    </tr>\n",
       "    <tr>\n",
       "      <th>4</th>\n",
       "      <td>00006413d8573cd20ed7128e53b7b13819fe5cfc2d801f...</td>\n",
       "      <td>[634249005, 677049001, 698286003, 707704003, 3...</td>\n",
       "      <td>0634249005 0677049001 0698286003 0707704003 03...</td>\n",
       "    </tr>\n",
       "  </tbody>\n",
       "</table>\n",
       "</div>"
      ],
      "text/plain": [
       "                                         customer_id  \\\n",
       "0  00000dbacae5abe5e23885899a1fa44253a17956c6d1c3...   \n",
       "1  0000423b00ade91418cceaf3b26c6af3dd342b51fd051e...   \n",
       "2  000058a12d5b43e67d225668fa1f8d618c13dc232df0ca...   \n",
       "3  00005ca1c9ed5f5146b52ac8639a40ca9d57aeff4d1bd2...   \n",
       "4  00006413d8573cd20ed7128e53b7b13819fe5cfc2d801f...   \n",
       "\n",
       "                                          article_id  \\\n",
       "0  [625548001, 176209023, 627759010, 697138006, 5...   \n",
       "1  [583558001, 639677008, 640244003, 521269001, 6...   \n",
       "2  [663713001, 541518023, 663713001, 578020002, 7...   \n",
       "3                             [742079001, 732413001]   \n",
       "4  [634249005, 677049001, 698286003, 707704003, 3...   \n",
       "\n",
       "                                          valid_pred  \n",
       "0  0625548001 0176209023 0627759010 0697138006 05...  \n",
       "1  0583558001 0639677008 0640244003 0521269001 06...  \n",
       "2  0663713001 0541518023 0663713001 0578020002 07...  \n",
       "3                              0742079001 0732413001  \n",
       "4  0634249005 0677049001 0698286003 0707704003 03...  "
      ]
     },
     "metadata": {},
     "output_type": "display_data"
    }
   ],
   "source": [
    "train_unq = train_data.groupby('customer_id')['article_id'].apply(list).reset_index()\n",
    "train_unq['valid_pred'] = train_unq['article_id'].map(lambda x: '0'+' 0'.join(str(x)[1:-1].split(', ')))\n",
    "visualize_df(train_unq)"
   ]
  },
  {
   "cell_type": "code",
   "execution_count": 8,
   "id": "c72843af",
   "metadata": {
    "execution": {
     "iopub.execute_input": "2022-02-13T11:46:33.300058Z",
     "iopub.status.busy": "2022-02-13T11:46:33.299319Z",
     "iopub.status.idle": "2022-02-13T11:46:35.778926Z",
     "shell.execute_reply": "2022-02-13T11:46:35.778395Z"
    },
    "papermill": {
     "duration": 2.502888,
     "end_time": "2022-02-13T11:46:35.779100",
     "exception": false,
     "start_time": "2022-02-13T11:46:33.276212",
     "status": "completed"
    },
    "tags": []
   },
   "outputs": [
    {
     "name": "stdout",
     "output_type": "stream",
     "text": [
      "(68984, 3)\n"
     ]
    },
    {
     "data": {
      "text/html": [
       "<div>\n",
       "<style scoped>\n",
       "    .dataframe tbody tr th:only-of-type {\n",
       "        vertical-align: middle;\n",
       "    }\n",
       "\n",
       "    .dataframe tbody tr th {\n",
       "        vertical-align: top;\n",
       "    }\n",
       "\n",
       "    .dataframe thead th {\n",
       "        text-align: right;\n",
       "    }\n",
       "</style>\n",
       "<table border=\"1\" class=\"dataframe\">\n",
       "  <thead>\n",
       "    <tr style=\"text-align: right;\">\n",
       "      <th></th>\n",
       "      <th>customer_id</th>\n",
       "      <th>article_id</th>\n",
       "      <th>valid_true</th>\n",
       "    </tr>\n",
       "  </thead>\n",
       "  <tbody>\n",
       "    <tr>\n",
       "      <th>0</th>\n",
       "      <td>00039306476aaf41a07fed942884f16b30abfa83a2a8be...</td>\n",
       "      <td>[624486001]</td>\n",
       "      <td>0624486001</td>\n",
       "    </tr>\n",
       "    <tr>\n",
       "      <th>1</th>\n",
       "      <td>0003e867a930d0d6842f923d6ba7c9b77aba33fe2a0fbf...</td>\n",
       "      <td>[827487003]</td>\n",
       "      <td>0827487003</td>\n",
       "    </tr>\n",
       "    <tr>\n",
       "      <th>2</th>\n",
       "      <td>000493dd9fc463df1acc2081450c9e75ef8e87d5dd17ed...</td>\n",
       "      <td>[757926001, 788575004, 640021019]</td>\n",
       "      <td>0757926001 0788575004 0640021019</td>\n",
       "    </tr>\n",
       "    <tr>\n",
       "      <th>3</th>\n",
       "      <td>000525e3fe01600d717da8423643a8303390a055c578ed...</td>\n",
       "      <td>[874110016]</td>\n",
       "      <td>0874110016</td>\n",
       "    </tr>\n",
       "    <tr>\n",
       "      <th>4</th>\n",
       "      <td>00077dbd5c4a4991e092e63893ccf29294a9d5c46e8501...</td>\n",
       "      <td>[903762001, 879189005, 158340001, 867966009, 9...</td>\n",
       "      <td>0903762001 0879189005 0158340001 0867966009 09...</td>\n",
       "    </tr>\n",
       "  </tbody>\n",
       "</table>\n",
       "</div>"
      ],
      "text/plain": [
       "                                         customer_id  \\\n",
       "0  00039306476aaf41a07fed942884f16b30abfa83a2a8be...   \n",
       "1  0003e867a930d0d6842f923d6ba7c9b77aba33fe2a0fbf...   \n",
       "2  000493dd9fc463df1acc2081450c9e75ef8e87d5dd17ed...   \n",
       "3  000525e3fe01600d717da8423643a8303390a055c578ed...   \n",
       "4  00077dbd5c4a4991e092e63893ccf29294a9d5c46e8501...   \n",
       "\n",
       "                                          article_id  \\\n",
       "0                                        [624486001]   \n",
       "1                                        [827487003]   \n",
       "2                  [757926001, 788575004, 640021019]   \n",
       "3                                        [874110016]   \n",
       "4  [903762001, 879189005, 158340001, 867966009, 9...   \n",
       "\n",
       "                                          valid_true  \n",
       "0                                         0624486001  \n",
       "1                                         0827487003  \n",
       "2                   0757926001 0788575004 0640021019  \n",
       "3                                         0874110016  \n",
       "4  0903762001 0879189005 0158340001 0867966009 09...  "
      ]
     },
     "metadata": {},
     "output_type": "display_data"
    }
   ],
   "source": [
    "valid_unq = valid_data.groupby('customer_id')['article_id'].apply(list).reset_index()\n",
    "valid_unq['valid_true'] = valid_unq['article_id'].map(lambda x: '0'+' 0'.join(str(x)[1:-1].split(', ')))\n",
    "visualize_df(valid_unq)"
   ]
  },
  {
   "cell_type": "code",
   "execution_count": 9,
   "id": "b05258cb",
   "metadata": {
    "execution": {
     "iopub.execute_input": "2022-02-13T11:46:35.822725Z",
     "iopub.status.busy": "2022-02-13T11:46:35.822035Z",
     "iopub.status.idle": "2022-02-13T11:46:43.484228Z",
     "shell.execute_reply": "2022-02-13T11:46:43.483628Z"
    },
    "papermill": {
     "duration": 7.685232,
     "end_time": "2022-02-13T11:46:43.484374",
     "exception": false,
     "start_time": "2022-02-13T11:46:35.799142",
     "status": "completed"
    },
    "tags": []
   },
   "outputs": [
    {
     "data": {
      "text/html": [
       "<div>\n",
       "<style scoped>\n",
       "    .dataframe tbody tr th:only-of-type {\n",
       "        vertical-align: middle;\n",
       "    }\n",
       "\n",
       "    .dataframe tbody tr th {\n",
       "        vertical-align: top;\n",
       "    }\n",
       "\n",
       "    .dataframe thead th {\n",
       "        text-align: right;\n",
       "    }\n",
       "</style>\n",
       "<table border=\"1\" class=\"dataframe\">\n",
       "  <thead>\n",
       "    <tr style=\"text-align: right;\">\n",
       "      <th></th>\n",
       "      <th>customer_id</th>\n",
       "      <th>valid_pred</th>\n",
       "      <th>valid_true</th>\n",
       "    </tr>\n",
       "  </thead>\n",
       "  <tbody>\n",
       "    <tr>\n",
       "      <th>0</th>\n",
       "      <td>00000dbacae5abe5e23885899a1fa44253a17956c6d1c3...</td>\n",
       "      <td>0625548001 0176209023 0627759010 0697138006 05...</td>\n",
       "      <td></td>\n",
       "    </tr>\n",
       "    <tr>\n",
       "      <th>1</th>\n",
       "      <td>0000423b00ade91418cceaf3b26c6af3dd342b51fd051e...</td>\n",
       "      <td>0583558001 0639677008 0640244003 0521269001 06...</td>\n",
       "      <td></td>\n",
       "    </tr>\n",
       "    <tr>\n",
       "      <th>2</th>\n",
       "      <td>000058a12d5b43e67d225668fa1f8d618c13dc232df0ca...</td>\n",
       "      <td>0663713001 0541518023 0663713001 0578020002 07...</td>\n",
       "      <td></td>\n",
       "    </tr>\n",
       "    <tr>\n",
       "      <th>3</th>\n",
       "      <td>00005ca1c9ed5f5146b52ac8639a40ca9d57aeff4d1bd2...</td>\n",
       "      <td>0742079001 0732413001</td>\n",
       "      <td></td>\n",
       "    </tr>\n",
       "    <tr>\n",
       "      <th>4</th>\n",
       "      <td>00006413d8573cd20ed7128e53b7b13819fe5cfc2d801f...</td>\n",
       "      <td>0634249005 0677049001 0698286003 0707704003 03...</td>\n",
       "      <td></td>\n",
       "    </tr>\n",
       "  </tbody>\n",
       "</table>\n",
       "</div>"
      ],
      "text/plain": [
       "                                         customer_id  \\\n",
       "0  00000dbacae5abe5e23885899a1fa44253a17956c6d1c3...   \n",
       "1  0000423b00ade91418cceaf3b26c6af3dd342b51fd051e...   \n",
       "2  000058a12d5b43e67d225668fa1f8d618c13dc232df0ca...   \n",
       "3  00005ca1c9ed5f5146b52ac8639a40ca9d57aeff4d1bd2...   \n",
       "4  00006413d8573cd20ed7128e53b7b13819fe5cfc2d801f...   \n",
       "\n",
       "                                          valid_pred valid_true  \n",
       "0  0625548001 0176209023 0627759010 0697138006 05...             \n",
       "1  0583558001 0639677008 0640244003 0521269001 06...             \n",
       "2  0663713001 0541518023 0663713001 0578020002 07...             \n",
       "3                              0742079001 0732413001             \n",
       "4  0634249005 0677049001 0698286003 0707704003 03...             "
      ]
     },
     "execution_count": 9,
     "metadata": {},
     "output_type": "execute_result"
    }
   ],
   "source": [
    "merged = pd.merge(sub, train_unq, on='customer_id', how='left').fillna('')\n",
    "merged = pd.merge(merged, valid_unq, on='customer_id', how='left').fillna('')\n",
    "\n",
    "del merged['article_id_x'], merged['article_id_y']; gc.collect()\n",
    "merged.head()"
   ]
  },
  {
   "cell_type": "code",
   "execution_count": 10,
   "id": "97285ded",
   "metadata": {
    "execution": {
     "iopub.execute_input": "2022-02-13T11:46:43.533308Z",
     "iopub.status.busy": "2022-02-13T11:46:43.532559Z",
     "iopub.status.idle": "2022-02-13T11:46:43.536162Z",
     "shell.execute_reply": "2022-02-13T11:46:43.535608Z"
    },
    "papermill": {
     "duration": 0.031687,
     "end_time": "2022-02-13T11:46:43.536327",
     "exception": false,
     "start_time": "2022-02-13T11:46:43.504640",
     "status": "completed"
    },
    "tags": []
   },
   "outputs": [],
   "source": [
    "def precision_k(row) -> float:\n",
    "    actual = row['valid_true'].split() # prediction_string --> prediction list\n",
    "    predicted = row['valid_pred'].split() # prediction_string --> prediction list\n",
    "    k = 12\n",
    "\n",
    "    actual_set = set(actual)\n",
    "    predicted_set = set(predicted[-k:])\n",
    "    \n",
    "    precision_k_value = len(actual_set & predicted_set)/k\n",
    "    \n",
    "    return precision_k_value"
   ]
  },
  {
   "cell_type": "code",
   "execution_count": 11,
   "id": "e1b00fa9",
   "metadata": {
    "execution": {
     "iopub.execute_input": "2022-02-13T11:46:43.586628Z",
     "iopub.status.busy": "2022-02-13T11:46:43.585577Z",
     "iopub.status.idle": "2022-02-13T11:47:20.559728Z",
     "shell.execute_reply": "2022-02-13T11:47:20.558701Z"
    },
    "papermill": {
     "duration": 37.002741,
     "end_time": "2022-02-13T11:47:20.560025",
     "exception": false,
     "start_time": "2022-02-13T11:46:43.557284",
     "status": "completed"
    },
    "tags": []
   },
   "outputs": [
    {
     "data": {
      "application/vnd.jupyter.widget-view+json": {
       "model_id": "a8d9675449884c0aa291d451abc6e610",
       "version_major": 2,
       "version_minor": 0
      },
      "text/plain": [
       "  0%|          | 0/1371980 [00:00<?, ?it/s]"
      ]
     },
     "metadata": {},
     "output_type": "display_data"
    },
    {
     "data": {
      "text/plain": [
       "0    0.0\n",
       "1    0.0\n",
       "2    0.0\n",
       "3    0.0\n",
       "4    0.0\n",
       "Name: Precision@12, dtype: float64"
      ]
     },
     "execution_count": 11,
     "metadata": {},
     "output_type": "execute_result"
    }
   ],
   "source": [
    "tqdm.pandas()\n",
    "\n",
    "merged['Precision@12'] = merged.progress_apply(precision_k, axis=1)\n",
    "merged['Precision@12'].head()"
   ]
  },
  {
   "cell_type": "code",
   "execution_count": 12,
   "id": "56191019",
   "metadata": {
    "execution": {
     "iopub.execute_input": "2022-02-13T11:47:20.611355Z",
     "iopub.status.busy": "2022-02-13T11:47:20.610343Z",
     "iopub.status.idle": "2022-02-13T11:47:20.630840Z",
     "shell.execute_reply": "2022-02-13T11:47:20.630202Z"
    },
    "papermill": {
     "duration": 0.049345,
     "end_time": "2022-02-13T11:47:20.631018",
     "exception": false,
     "start_time": "2022-02-13T11:47:20.581673",
     "status": "completed"
    },
    "tags": []
   },
   "outputs": [
    {
     "data": {
      "text/html": [
       "<div>\n",
       "<style scoped>\n",
       "    .dataframe tbody tr th:only-of-type {\n",
       "        vertical-align: middle;\n",
       "    }\n",
       "\n",
       "    .dataframe tbody tr th {\n",
       "        vertical-align: top;\n",
       "    }\n",
       "\n",
       "    .dataframe thead th {\n",
       "        text-align: right;\n",
       "    }\n",
       "</style>\n",
       "<table border=\"1\" class=\"dataframe\">\n",
       "  <thead>\n",
       "    <tr style=\"text-align: right;\">\n",
       "      <th></th>\n",
       "      <th>customer_id</th>\n",
       "      <th>valid_pred</th>\n",
       "      <th>valid_true</th>\n",
       "      <th>Precision@12</th>\n",
       "    </tr>\n",
       "  </thead>\n",
       "  <tbody>\n",
       "    <tr>\n",
       "      <th>330</th>\n",
       "      <td>000fb6e772c5d0023892065e659963da90b1866035558e...</td>\n",
       "      <td>0674482003 0688873001 0670063001 0403448007 04...</td>\n",
       "      <td>0786022008 0913272003 0889669006 0913272003 08...</td>\n",
       "      <td>0.083333</td>\n",
       "    </tr>\n",
       "    <tr>\n",
       "      <th>647</th>\n",
       "      <td>001ddeb8fb74fec5693116da83b488e05ee9a9e179f3fd...</td>\n",
       "      <td>0682965001 0539197011 0539197011 0649098002 06...</td>\n",
       "      <td>0706016002 0876148002 0843777005 0812271001</td>\n",
       "      <td>0.083333</td>\n",
       "    </tr>\n",
       "    <tr>\n",
       "      <th>687</th>\n",
       "      <td>00201f34c8c92683263346d78c2b45ffd0c6927229542d...</td>\n",
       "      <td>0551515002 0481696002 0481696002 0651692001 06...</td>\n",
       "      <td>0903926001 0909320002</td>\n",
       "      <td>0.083333</td>\n",
       "    </tr>\n",
       "    <tr>\n",
       "      <th>842</th>\n",
       "      <td>00282135561702f5b3b750fa3382d8fd83ce5d761a507e...</td>\n",
       "      <td>0573626001 0688632001 0569974001 0570002001 05...</td>\n",
       "      <td>0855249006 0822171001</td>\n",
       "      <td>0.083333</td>\n",
       "    </tr>\n",
       "    <tr>\n",
       "      <th>1108</th>\n",
       "      <td>0034669aa967dd26cb88d0f20d99d381741a50e44d3be5...</td>\n",
       "      <td>0696953001 0551044015 0936862001</td>\n",
       "      <td>0936862001 0936862001 0936862001</td>\n",
       "      <td>0.083333</td>\n",
       "    </tr>\n",
       "    <tr>\n",
       "      <th>...</th>\n",
       "      <td>...</td>\n",
       "      <td>...</td>\n",
       "      <td>...</td>\n",
       "      <td>...</td>\n",
       "    </tr>\n",
       "    <tr>\n",
       "      <th>1370190</th>\n",
       "      <td>ffa938ef7d86f1d9793605bc3fc2a6736fb44b902984df...</td>\n",
       "      <td>0656649009 0789331003 0704128001 0790057001 07...</td>\n",
       "      <td>0611415034 0611415034 0805000008 0862271003 08...</td>\n",
       "      <td>0.083333</td>\n",
       "    </tr>\n",
       "    <tr>\n",
       "      <th>1371091</th>\n",
       "      <td>ffd4cf2217de4a0a3f9f610cdec334c803692a18af08ac...</td>\n",
       "      <td>0507909022 0507909004 0507909004 0633130002 06...</td>\n",
       "      <td>0896169005 0791587021 0791587021 0910949002 07...</td>\n",
       "      <td>0.083333</td>\n",
       "    </tr>\n",
       "    <tr>\n",
       "      <th>1371341</th>\n",
       "      <td>ffe1791c9c6e3df9aafeebc77cf2cf03dd0123ac76ef90...</td>\n",
       "      <td>0501722012 0667770001 0454544010 0667770002 04...</td>\n",
       "      <td>0853740002 0853740002 0853740017 0853740017 08...</td>\n",
       "      <td>0.083333</td>\n",
       "    </tr>\n",
       "    <tr>\n",
       "      <th>1371602</th>\n",
       "      <td>ffee12091eb3aa2337defe250d7f6b23dbbf9d496fdd7c...</td>\n",
       "      <td>0616733001 0368979001 0693748001 0647463001 06...</td>\n",
       "      <td>0902528007 0902528007 0805947006</td>\n",
       "      <td>0.083333</td>\n",
       "    </tr>\n",
       "    <tr>\n",
       "      <th>1371879</th>\n",
       "      <td>fffae8eb3a282d8c43c77dd2ca0621703b71e90904dfde...</td>\n",
       "      <td>0399223001 0615726003 0399223025 0446224002 04...</td>\n",
       "      <td>0396135007 0817472007 0715624050 0817472003 08...</td>\n",
       "      <td>0.083333</td>\n",
       "    </tr>\n",
       "  </tbody>\n",
       "</table>\n",
       "<p>4943 rows × 4 columns</p>\n",
       "</div>"
      ],
      "text/plain": [
       "                                               customer_id  \\\n",
       "330      000fb6e772c5d0023892065e659963da90b1866035558e...   \n",
       "647      001ddeb8fb74fec5693116da83b488e05ee9a9e179f3fd...   \n",
       "687      00201f34c8c92683263346d78c2b45ffd0c6927229542d...   \n",
       "842      00282135561702f5b3b750fa3382d8fd83ce5d761a507e...   \n",
       "1108     0034669aa967dd26cb88d0f20d99d381741a50e44d3be5...   \n",
       "...                                                    ...   \n",
       "1370190  ffa938ef7d86f1d9793605bc3fc2a6736fb44b902984df...   \n",
       "1371091  ffd4cf2217de4a0a3f9f610cdec334c803692a18af08ac...   \n",
       "1371341  ffe1791c9c6e3df9aafeebc77cf2cf03dd0123ac76ef90...   \n",
       "1371602  ffee12091eb3aa2337defe250d7f6b23dbbf9d496fdd7c...   \n",
       "1371879  fffae8eb3a282d8c43c77dd2ca0621703b71e90904dfde...   \n",
       "\n",
       "                                                valid_pred  \\\n",
       "330      0674482003 0688873001 0670063001 0403448007 04...   \n",
       "647      0682965001 0539197011 0539197011 0649098002 06...   \n",
       "687      0551515002 0481696002 0481696002 0651692001 06...   \n",
       "842      0573626001 0688632001 0569974001 0570002001 05...   \n",
       "1108                      0696953001 0551044015 0936862001   \n",
       "...                                                    ...   \n",
       "1370190  0656649009 0789331003 0704128001 0790057001 07...   \n",
       "1371091  0507909022 0507909004 0507909004 0633130002 06...   \n",
       "1371341  0501722012 0667770001 0454544010 0667770002 04...   \n",
       "1371602  0616733001 0368979001 0693748001 0647463001 06...   \n",
       "1371879  0399223001 0615726003 0399223025 0446224002 04...   \n",
       "\n",
       "                                                valid_true  Precision@12  \n",
       "330      0786022008 0913272003 0889669006 0913272003 08...      0.083333  \n",
       "647            0706016002 0876148002 0843777005 0812271001      0.083333  \n",
       "687                                  0903926001 0909320002      0.083333  \n",
       "842                                  0855249006 0822171001      0.083333  \n",
       "1108                      0936862001 0936862001 0936862001      0.083333  \n",
       "...                                                    ...           ...  \n",
       "1370190  0611415034 0611415034 0805000008 0862271003 08...      0.083333  \n",
       "1371091  0896169005 0791587021 0791587021 0910949002 07...      0.083333  \n",
       "1371341  0853740002 0853740002 0853740017 0853740017 08...      0.083333  \n",
       "1371602                   0902528007 0902528007 0805947006      0.083333  \n",
       "1371879  0396135007 0817472007 0715624050 0817472003 08...      0.083333  \n",
       "\n",
       "[4943 rows x 4 columns]"
      ]
     },
     "execution_count": 12,
     "metadata": {},
     "output_type": "execute_result"
    }
   ],
   "source": [
    "# scored over 0 data\n",
    "\n",
    "merged[merged['Precision@12']>0]"
   ]
  },
  {
   "cell_type": "code",
   "execution_count": 13,
   "id": "4a6c97c6",
   "metadata": {
    "execution": {
     "iopub.execute_input": "2022-02-13T11:47:20.681118Z",
     "iopub.status.busy": "2022-02-13T11:47:20.680385Z",
     "iopub.status.idle": "2022-02-13T11:47:20.686961Z",
     "shell.execute_reply": "2022-02-13T11:47:20.687618Z"
    },
    "papermill": {
     "duration": 0.034712,
     "end_time": "2022-02-13T11:47:20.687857",
     "exception": false,
     "start_time": "2022-02-13T11:47:20.653145",
     "status": "completed"
    },
    "tags": []
   },
   "outputs": [
    {
     "data": {
      "text/plain": [
       "0.00036"
      ]
     },
     "execution_count": 13,
     "metadata": {},
     "output_type": "execute_result"
    }
   ],
   "source": [
    "# mean average precision at 12\n",
    "\n",
    "round(merged['Precision@12'].mean(), 5)"
   ]
  },
  {
   "cell_type": "markdown",
   "id": "3d606774",
   "metadata": {
    "papermill": {
     "duration": 0.024623,
     "end_time": "2022-02-13T11:47:20.737008",
     "exception": false,
     "start_time": "2022-02-13T11:47:20.712385",
     "status": "completed"
    },
    "tags": []
   },
   "source": [
    "#### Simple last ~12 purchased as predictions scored 0.00036\n",
    "\n",
    "#### We have only the third decimal place on LB\n",
    "\n",
    "#### This sub maybe scored 0.000 😂"
   ]
  },
  {
   "cell_type": "code",
   "execution_count": 14,
   "id": "f6b49285",
   "metadata": {
    "execution": {
     "iopub.execute_input": "2022-02-13T11:47:20.785054Z",
     "iopub.status.busy": "2022-02-13T11:47:20.784382Z",
     "iopub.status.idle": "2022-02-13T11:47:41.570821Z",
     "shell.execute_reply": "2022-02-13T11:47:41.571379Z"
    },
    "papermill": {
     "duration": 20.811888,
     "end_time": "2022-02-13T11:47:41.571586",
     "exception": false,
     "start_time": "2022-02-13T11:47:20.759698",
     "status": "completed"
    },
    "tags": []
   },
   "outputs": [
    {
     "name": "stdout",
     "output_type": "stream",
     "text": [
      "(1371980, 2)\n"
     ]
    }
   ],
   "source": [
    "sub = merged[['customer_id', 'valid_pred']].copy()\n",
    "sub.columns = ['customer_id', 'prediction']\n",
    "print(sub.shape)\n",
    "\n",
    "sub.to_csv('submission.csv', index=False)"
   ]
  },
  {
   "cell_type": "code",
   "execution_count": null,
   "id": "70ede677",
   "metadata": {
    "papermill": {
     "duration": 0.023184,
     "end_time": "2022-02-13T11:47:41.618711",
     "exception": false,
     "start_time": "2022-02-13T11:47:41.595527",
     "status": "completed"
    },
    "tags": []
   },
   "outputs": [],
   "source": []
  }
 ],
 "metadata": {
  "kernelspec": {
   "display_name": "Python 3",
   "language": "python",
   "name": "python3"
  },
  "language_info": {
   "codemirror_mode": {
    "name": "ipython",
    "version": 3
   },
   "file_extension": ".py",
   "mimetype": "text/x-python",
   "name": "python",
   "nbconvert_exporter": "python",
   "pygments_lexer": "ipython3",
   "version": "3.7.12"
  },
  "papermill": {
   "default_parameters": {},
   "duration": 238.009656,
   "end_time": "2022-02-13T11:47:44.253113",
   "environment_variables": {},
   "exception": null,
   "input_path": "__notebook__.ipynb",
   "output_path": "__notebook__.ipynb",
   "parameters": {},
   "start_time": "2022-02-13T11:43:46.243457",
   "version": "2.3.3"
  },
  "widgets": {
   "application/vnd.jupyter.widget-state+json": {
    "state": {
     "32e8b17c14e549f3ba90b02c04fd7950": {
      "model_module": "@jupyter-widgets/controls",
      "model_module_version": "1.5.0",
      "model_name": "ProgressStyleModel",
      "state": {
       "_model_module": "@jupyter-widgets/controls",
       "_model_module_version": "1.5.0",
       "_model_name": "ProgressStyleModel",
       "_view_count": null,
       "_view_module": "@jupyter-widgets/base",
       "_view_module_version": "1.2.0",
       "_view_name": "StyleView",
       "bar_color": null,
       "description_width": ""
      }
     },
     "3d6eeda5764b422d9d17febf5d33ace7": {
      "model_module": "@jupyter-widgets/base",
      "model_module_version": "1.2.0",
      "model_name": "LayoutModel",
      "state": {
       "_model_module": "@jupyter-widgets/base",
       "_model_module_version": "1.2.0",
       "_model_name": "LayoutModel",
       "_view_count": null,
       "_view_module": "@jupyter-widgets/base",
       "_view_module_version": "1.2.0",
       "_view_name": "LayoutView",
       "align_content": null,
       "align_items": null,
       "align_self": null,
       "border": null,
       "bottom": null,
       "display": null,
       "flex": null,
       "flex_flow": null,
       "grid_area": null,
       "grid_auto_columns": null,
       "grid_auto_flow": null,
       "grid_auto_rows": null,
       "grid_column": null,
       "grid_gap": null,
       "grid_row": null,
       "grid_template_areas": null,
       "grid_template_columns": null,
       "grid_template_rows": null,
       "height": null,
       "justify_content": null,
       "justify_items": null,
       "left": null,
       "margin": null,
       "max_height": null,
       "max_width": null,
       "min_height": null,
       "min_width": null,
       "object_fit": null,
       "object_position": null,
       "order": null,
       "overflow": null,
       "overflow_x": null,
       "overflow_y": null,
       "padding": null,
       "right": null,
       "top": null,
       "visibility": null,
       "width": null
      }
     },
     "8852a6c367114e4f83846278d3815797": {
      "model_module": "@jupyter-widgets/base",
      "model_module_version": "1.2.0",
      "model_name": "LayoutModel",
      "state": {
       "_model_module": "@jupyter-widgets/base",
       "_model_module_version": "1.2.0",
       "_model_name": "LayoutModel",
       "_view_count": null,
       "_view_module": "@jupyter-widgets/base",
       "_view_module_version": "1.2.0",
       "_view_name": "LayoutView",
       "align_content": null,
       "align_items": null,
       "align_self": null,
       "border": null,
       "bottom": null,
       "display": null,
       "flex": null,
       "flex_flow": null,
       "grid_area": null,
       "grid_auto_columns": null,
       "grid_auto_flow": null,
       "grid_auto_rows": null,
       "grid_column": null,
       "grid_gap": null,
       "grid_row": null,
       "grid_template_areas": null,
       "grid_template_columns": null,
       "grid_template_rows": null,
       "height": null,
       "justify_content": null,
       "justify_items": null,
       "left": null,
       "margin": null,
       "max_height": null,
       "max_width": null,
       "min_height": null,
       "min_width": null,
       "object_fit": null,
       "object_position": null,
       "order": null,
       "overflow": null,
       "overflow_x": null,
       "overflow_y": null,
       "padding": null,
       "right": null,
       "top": null,
       "visibility": null,
       "width": null
      }
     },
     "9bb038fbb3d94a4e88f5862353b29eb7": {
      "model_module": "@jupyter-widgets/controls",
      "model_module_version": "1.5.0",
      "model_name": "DescriptionStyleModel",
      "state": {
       "_model_module": "@jupyter-widgets/controls",
       "_model_module_version": "1.5.0",
       "_model_name": "DescriptionStyleModel",
       "_view_count": null,
       "_view_module": "@jupyter-widgets/base",
       "_view_module_version": "1.2.0",
       "_view_name": "StyleView",
       "description_width": ""
      }
     },
     "a8d9675449884c0aa291d451abc6e610": {
      "model_module": "@jupyter-widgets/controls",
      "model_module_version": "1.5.0",
      "model_name": "HBoxModel",
      "state": {
       "_dom_classes": [],
       "_model_module": "@jupyter-widgets/controls",
       "_model_module_version": "1.5.0",
       "_model_name": "HBoxModel",
       "_view_count": null,
       "_view_module": "@jupyter-widgets/controls",
       "_view_module_version": "1.5.0",
       "_view_name": "HBoxView",
       "box_style": "",
       "children": [
        "IPY_MODEL_af6b936b709044b88676bcdf05b504b9",
        "IPY_MODEL_d762a15bf8514f7a888b7f4c6f6348b6",
        "IPY_MODEL_e53b6e0fc7da454c834697edd2ecd41e"
       ],
       "layout": "IPY_MODEL_3d6eeda5764b422d9d17febf5d33ace7"
      }
     },
     "af6b936b709044b88676bcdf05b504b9": {
      "model_module": "@jupyter-widgets/controls",
      "model_module_version": "1.5.0",
      "model_name": "HTMLModel",
      "state": {
       "_dom_classes": [],
       "_model_module": "@jupyter-widgets/controls",
       "_model_module_version": "1.5.0",
       "_model_name": "HTMLModel",
       "_view_count": null,
       "_view_module": "@jupyter-widgets/controls",
       "_view_module_version": "1.5.0",
       "_view_name": "HTMLView",
       "description": "",
       "description_tooltip": null,
       "layout": "IPY_MODEL_f0f24e5a47b7422f984f040b2ba44f19",
       "placeholder": "​",
       "style": "IPY_MODEL_9bb038fbb3d94a4e88f5862353b29eb7",
       "value": "100%"
      }
     },
     "c69da8e0fdc04b3496bff08a2c626494": {
      "model_module": "@jupyter-widgets/base",
      "model_module_version": "1.2.0",
      "model_name": "LayoutModel",
      "state": {
       "_model_module": "@jupyter-widgets/base",
       "_model_module_version": "1.2.0",
       "_model_name": "LayoutModel",
       "_view_count": null,
       "_view_module": "@jupyter-widgets/base",
       "_view_module_version": "1.2.0",
       "_view_name": "LayoutView",
       "align_content": null,
       "align_items": null,
       "align_self": null,
       "border": null,
       "bottom": null,
       "display": null,
       "flex": null,
       "flex_flow": null,
       "grid_area": null,
       "grid_auto_columns": null,
       "grid_auto_flow": null,
       "grid_auto_rows": null,
       "grid_column": null,
       "grid_gap": null,
       "grid_row": null,
       "grid_template_areas": null,
       "grid_template_columns": null,
       "grid_template_rows": null,
       "height": null,
       "justify_content": null,
       "justify_items": null,
       "left": null,
       "margin": null,
       "max_height": null,
       "max_width": null,
       "min_height": null,
       "min_width": null,
       "object_fit": null,
       "object_position": null,
       "order": null,
       "overflow": null,
       "overflow_x": null,
       "overflow_y": null,
       "padding": null,
       "right": null,
       "top": null,
       "visibility": null,
       "width": null
      }
     },
     "d762a15bf8514f7a888b7f4c6f6348b6": {
      "model_module": "@jupyter-widgets/controls",
      "model_module_version": "1.5.0",
      "model_name": "FloatProgressModel",
      "state": {
       "_dom_classes": [],
       "_model_module": "@jupyter-widgets/controls",
       "_model_module_version": "1.5.0",
       "_model_name": "FloatProgressModel",
       "_view_count": null,
       "_view_module": "@jupyter-widgets/controls",
       "_view_module_version": "1.5.0",
       "_view_name": "ProgressView",
       "bar_style": "success",
       "description": "",
       "description_tooltip": null,
       "layout": "IPY_MODEL_c69da8e0fdc04b3496bff08a2c626494",
       "max": 1371980.0,
       "min": 0.0,
       "orientation": "horizontal",
       "style": "IPY_MODEL_32e8b17c14e549f3ba90b02c04fd7950",
       "value": 1371980.0
      }
     },
     "e53b6e0fc7da454c834697edd2ecd41e": {
      "model_module": "@jupyter-widgets/controls",
      "model_module_version": "1.5.0",
      "model_name": "HTMLModel",
      "state": {
       "_dom_classes": [],
       "_model_module": "@jupyter-widgets/controls",
       "_model_module_version": "1.5.0",
       "_model_name": "HTMLModel",
       "_view_count": null,
       "_view_module": "@jupyter-widgets/controls",
       "_view_module_version": "1.5.0",
       "_view_name": "HTMLView",
       "description": "",
       "description_tooltip": null,
       "layout": "IPY_MODEL_8852a6c367114e4f83846278d3815797",
       "placeholder": "​",
       "style": "IPY_MODEL_f97046bde13f40fc8ce4f2eb13a131c7",
       "value": " 1371980/1371980 [00:36&lt;00:00, 38793.78it/s]"
      }
     },
     "f0f24e5a47b7422f984f040b2ba44f19": {
      "model_module": "@jupyter-widgets/base",
      "model_module_version": "1.2.0",
      "model_name": "LayoutModel",
      "state": {
       "_model_module": "@jupyter-widgets/base",
       "_model_module_version": "1.2.0",
       "_model_name": "LayoutModel",
       "_view_count": null,
       "_view_module": "@jupyter-widgets/base",
       "_view_module_version": "1.2.0",
       "_view_name": "LayoutView",
       "align_content": null,
       "align_items": null,
       "align_self": null,
       "border": null,
       "bottom": null,
       "display": null,
       "flex": null,
       "flex_flow": null,
       "grid_area": null,
       "grid_auto_columns": null,
       "grid_auto_flow": null,
       "grid_auto_rows": null,
       "grid_column": null,
       "grid_gap": null,
       "grid_row": null,
       "grid_template_areas": null,
       "grid_template_columns": null,
       "grid_template_rows": null,
       "height": null,
       "justify_content": null,
       "justify_items": null,
       "left": null,
       "margin": null,
       "max_height": null,
       "max_width": null,
       "min_height": null,
       "min_width": null,
       "object_fit": null,
       "object_position": null,
       "order": null,
       "overflow": null,
       "overflow_x": null,
       "overflow_y": null,
       "padding": null,
       "right": null,
       "top": null,
       "visibility": null,
       "width": null
      }
     },
     "f97046bde13f40fc8ce4f2eb13a131c7": {
      "model_module": "@jupyter-widgets/controls",
      "model_module_version": "1.5.0",
      "model_name": "DescriptionStyleModel",
      "state": {
       "_model_module": "@jupyter-widgets/controls",
       "_model_module_version": "1.5.0",
       "_model_name": "DescriptionStyleModel",
       "_view_count": null,
       "_view_module": "@jupyter-widgets/base",
       "_view_module_version": "1.2.0",
       "_view_name": "StyleView",
       "description_width": ""
      }
     }
    },
    "version_major": 2,
    "version_minor": 0
   }
  }
 },
 "nbformat": 4,
 "nbformat_minor": 5
}
